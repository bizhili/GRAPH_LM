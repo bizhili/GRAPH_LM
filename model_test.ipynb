{
 "cells": [
  {
   "cell_type": "code",
   "execution_count": 4,
   "metadata": {},
   "outputs": [],
   "source": [
    "import torch\n",
    "import torch.nn as nn\n",
    "from torch.nn.utils import parameters_to_vector\n",
    "\n",
    "\n",
    "class TransformerModel(nn.Module):\n",
    "    def __init__(self, input_dim, seq_length, output_dim):\n",
    "        super(TransformerModel, self).__init__()\n",
    "\n",
    "        self.transformer = nn.Transformer(\n",
    "            d_model=input_dim,\n",
    "            nhead=3,\n",
    "            num_encoder_layers=3,\n",
    "            num_decoder_layers=3,\n",
    "            dim_feedforward=128,\n",
    "        )\n",
    "        self.input_dim= input_dim\n",
    "        self.seq_length= seq_length\n",
    "\n",
    "        self.fc = nn.Linear(seq_length * input_dim, output_dim)\n",
    "\n",
    "    def forward(self, x):\n",
    "        # Assuming x has shape (sequence_length, batch_size, input_dim)\n",
    "        x = self.transformer(x, x)  # Use x as both source and target\n",
    "        x = self.fc(x.view(x.shape[0], -1))\n",
    "        return x\n",
    "\n",
    "# Create an instance of the model\n",
    "model = TransformerModel(input_dim=21, seq_length=100, output_dim=100)\n",
    "\n",
    "# Example input tensor\n",
    "input_tensor = torch.randn(20, 100, 21)  # Assuming batch size is 100\n",
    "\n",
    "# Forward pass\n",
    "output_tensor = model(input_tensor)\n"
   ]
  },
  {
   "cell_type": "code",
   "execution_count": 38,
   "metadata": {},
   "outputs": [
    {
     "name": "stdout",
     "output_type": "stream",
     "text": [
      "Total Parameters: 260596\n"
     ]
    }
   ],
   "source": [
    "# Calculate the total number of parameters\n",
    "total_params = len(parameters_to_vector(model.parameters()))\n",
    "print(\"Total Parameters:\", total_params)"
   ]
  }
 ],
 "metadata": {
  "kernelspec": {
   "display_name": "tf1",
   "language": "python",
   "name": "python3"
  },
  "language_info": {
   "codemirror_mode": {
    "name": "ipython",
    "version": 3
   },
   "file_extension": ".py",
   "mimetype": "text/x-python",
   "name": "python",
   "nbconvert_exporter": "python",
   "pygments_lexer": "ipython3",
   "version": "3.11.4"
  }
 },
 "nbformat": 4,
 "nbformat_minor": 2
}
