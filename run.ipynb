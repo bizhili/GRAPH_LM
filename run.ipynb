{
 "cells": [
  {
   "cell_type": "code",
   "execution_count": 4,
   "metadata": {},
   "outputs": [
    {
     "name": "stdout",
     "output_type": "stream",
     "text": [
      "The autoreload extension is already loaded. To reload it, use:\n",
      "  %reload_ext autoreload\n"
     ]
    },
    {
     "name": "stderr",
     "output_type": "stream",
     "text": [
      "100%|██████████| 2500/2500 [00:00<00:00, 6410.78it/s]\n",
      "100%|██████████| 2500/2500 [00:00<00:00, 6091.89it/s]\n",
      "100%|██████████| 2500/2500 [00:00<00:00, 6097.05it/s]\n",
      "100%|██████████| 2500/2500 [00:00<00:00, 6280.70it/s]\n",
      "100%|██████████| 2500/2500 [00:00<00:00, 6629.12it/s]\n",
      "100%|██████████| 2500/2500 [00:00<00:00, 6434.12it/s]\n",
      "100%|██████████| 2500/2500 [00:00<00:00, 6426.39it/s]\n"
     ]
    }
   ],
   "source": [
    "%load_ext autoreload\n",
    "%autoreload 2\n",
    "import h5py\n",
    "import numpy as np\n",
    "import glob\n",
    "from tqdm import tqdm\n",
    "from torch.utils.data import DataLoader, TensorDataset\n",
    "import torch.nn as nn\n",
    "import torch.optim as optim\n",
    "import modules.nn as mynn\n",
    "import torch\n",
    "\n",
    "device= \"cuda:0\" if torch.cuda.is_available() else \"cpu\"\n",
    "\n",
    "lenData= 2500\n",
    "\n",
    "h5_files = glob.glob(f\"datas/*.h5\")\n",
    "\n",
    "\n",
    "def read_data_from_folder():\n",
    "    pass\n",
    "\n",
    "EmbdeddingNps= []\n",
    "centralitysNps= []\n",
    "for file in h5_files:\n",
    "    with h5py.File(file, 'r') as hdf5_file:\n",
    "        for i in tqdm(range(lenData)):\n",
    "            EmbdeddingNp= np.array(hdf5_file[f'M{i}'], dtype= np.float32)\n",
    "            EmbdeddingNps.append(EmbdeddingNp)\n",
    "            centralitysNp= np.array(hdf5_file[f'C1{i}'], dtype= np.float32)\n",
    "            centralitysNps.append(centralitysNp)\n",
    "EmbdeddingNps= np.stack(EmbdeddingNps)\n",
    "centralitysNps= np.stack(centralitysNps)\n",
    "centralitysNps= centralitysNps[:, 4, :]\n"
   ]
  },
  {
   "cell_type": "code",
   "execution_count": 6,
   "metadata": {},
   "outputs": [
    {
     "name": "stdout",
     "output_type": "stream",
     "text": [
      "(17500, 100, 21)\n",
      "(17500, 100, 1)\n",
      "[[1.   0.   0.   ... 0.   0.   0.  ]\n",
      " [0.99 0.   0.   ... 0.   0.   0.5 ]\n",
      " [0.98 0.   0.   ... 0.   0.   0.5 ]\n",
      " ...\n",
      " [0.03 0.   0.   ... 0.   0.   0.  ]\n",
      " [0.02 0.   0.   ... 0.   0.   0.  ]\n",
      " [0.01 0.   0.   ... 0.   0.   0.  ]]\n",
      "cuda:0\n"
     ]
    }
   ],
   "source": [
    "print(EmbdeddingNps.shape)\n",
    "print(centralitysNps[:, :, None].shape)\n",
    "print(EmbdeddingNp)\n",
    "print(device)"
   ]
  },
  {
   "cell_type": "code",
   "execution_count": 8,
   "metadata": {},
   "outputs": [
    {
     "name": "stdout",
     "output_type": "stream",
     "text": [
      "Epoch [1/100], Loss: 0.007324208505451679\n",
      "Epoch [2/100], Loss: 0.0034214400220662355\n",
      "Epoch [3/100], Loss: 0.0020283283665776253\n",
      "Epoch [4/100], Loss: 0.0014639185974374413\n",
      "Epoch [5/100], Loss: 0.0011457203654572368\n",
      "Epoch [6/100], Loss: 0.001117013394832611\n",
      "Epoch [7/100], Loss: 0.000989866559393704\n",
      "Epoch [8/100], Loss: 0.0008566852193325758\n",
      "Epoch [9/100], Loss: 0.0008427671273238957\n",
      "Epoch [10/100], Loss: 0.0006971433176659048\n",
      "Epoch [11/100], Loss: 0.000666387437377125\n",
      "Epoch [12/100], Loss: 0.0007093189051374793\n",
      "Epoch [13/100], Loss: 0.0007020859629847109\n",
      "Epoch [14/100], Loss: 0.0006846304750069976\n",
      "Epoch [15/100], Loss: 0.0006629546987824142\n",
      "Epoch [16/100], Loss: 0.0006164218066260219\n",
      "Epoch [17/100], Loss: 0.0006908423383720219\n",
      "Epoch [18/100], Loss: 0.0006576439482159913\n",
      "Epoch [19/100], Loss: 0.0006062599713914096\n"
     ]
    },
    {
     "ename": "KeyboardInterrupt",
     "evalue": "",
     "output_type": "error",
     "traceback": [
      "\u001b[1;31m---------------------------------------------------------------------------\u001b[0m",
      "\u001b[1;31mKeyboardInterrupt\u001b[0m                         Traceback (most recent call last)",
      "Cell \u001b[1;32mIn[8], line 31\u001b[0m\n\u001b[0;32m     28\u001b[0m loss \u001b[38;5;241m=\u001b[39m criterion(outputs, targets)\n\u001b[0;32m     30\u001b[0m \u001b[38;5;66;03m# Backward pass\u001b[39;00m\n\u001b[1;32m---> 31\u001b[0m \u001b[43mloss\u001b[49m\u001b[38;5;241;43m.\u001b[39;49m\u001b[43mbackward\u001b[49m\u001b[43m(\u001b[49m\u001b[43m)\u001b[49m\n\u001b[0;32m     33\u001b[0m \u001b[38;5;66;03m# Update the weights\u001b[39;00m\n\u001b[0;32m     34\u001b[0m optimizer\u001b[38;5;241m.\u001b[39mstep()\n",
      "File \u001b[1;32mc:\\Users\\30678\\.conda\\envs\\tf1\\Lib\\site-packages\\torch\\_tensor.py:487\u001b[0m, in \u001b[0;36mTensor.backward\u001b[1;34m(self, gradient, retain_graph, create_graph, inputs)\u001b[0m\n\u001b[0;32m    477\u001b[0m \u001b[38;5;28;01mif\u001b[39;00m has_torch_function_unary(\u001b[38;5;28mself\u001b[39m):\n\u001b[0;32m    478\u001b[0m     \u001b[38;5;28;01mreturn\u001b[39;00m handle_torch_function(\n\u001b[0;32m    479\u001b[0m         Tensor\u001b[38;5;241m.\u001b[39mbackward,\n\u001b[0;32m    480\u001b[0m         (\u001b[38;5;28mself\u001b[39m,),\n\u001b[1;32m   (...)\u001b[0m\n\u001b[0;32m    485\u001b[0m         inputs\u001b[38;5;241m=\u001b[39minputs,\n\u001b[0;32m    486\u001b[0m     )\n\u001b[1;32m--> 487\u001b[0m \u001b[43mtorch\u001b[49m\u001b[38;5;241;43m.\u001b[39;49m\u001b[43mautograd\u001b[49m\u001b[38;5;241;43m.\u001b[39;49m\u001b[43mbackward\u001b[49m\u001b[43m(\u001b[49m\n\u001b[0;32m    488\u001b[0m \u001b[43m    \u001b[49m\u001b[38;5;28;43mself\u001b[39;49m\u001b[43m,\u001b[49m\u001b[43m \u001b[49m\u001b[43mgradient\u001b[49m\u001b[43m,\u001b[49m\u001b[43m \u001b[49m\u001b[43mretain_graph\u001b[49m\u001b[43m,\u001b[49m\u001b[43m \u001b[49m\u001b[43mcreate_graph\u001b[49m\u001b[43m,\u001b[49m\u001b[43m \u001b[49m\u001b[43minputs\u001b[49m\u001b[38;5;241;43m=\u001b[39;49m\u001b[43minputs\u001b[49m\n\u001b[0;32m    489\u001b[0m \u001b[43m\u001b[49m\u001b[43m)\u001b[49m\n",
      "File \u001b[1;32mc:\\Users\\30678\\.conda\\envs\\tf1\\Lib\\site-packages\\torch\\autograd\\__init__.py:200\u001b[0m, in \u001b[0;36mbackward\u001b[1;34m(tensors, grad_tensors, retain_graph, create_graph, grad_variables, inputs)\u001b[0m\n\u001b[0;32m    195\u001b[0m     retain_graph \u001b[38;5;241m=\u001b[39m create_graph\n\u001b[0;32m    197\u001b[0m \u001b[38;5;66;03m# The reason we repeat same the comment below is that\u001b[39;00m\n\u001b[0;32m    198\u001b[0m \u001b[38;5;66;03m# some Python versions print out the first line of a multi-line function\u001b[39;00m\n\u001b[0;32m    199\u001b[0m \u001b[38;5;66;03m# calls in the traceback and some print out the last line\u001b[39;00m\n\u001b[1;32m--> 200\u001b[0m \u001b[43mVariable\u001b[49m\u001b[38;5;241;43m.\u001b[39;49m\u001b[43m_execution_engine\u001b[49m\u001b[38;5;241;43m.\u001b[39;49m\u001b[43mrun_backward\u001b[49m\u001b[43m(\u001b[49m\u001b[43m  \u001b[49m\u001b[38;5;66;43;03m# Calls into the C++ engine to run the backward pass\u001b[39;49;00m\n\u001b[0;32m    201\u001b[0m \u001b[43m    \u001b[49m\u001b[43mtensors\u001b[49m\u001b[43m,\u001b[49m\u001b[43m \u001b[49m\u001b[43mgrad_tensors_\u001b[49m\u001b[43m,\u001b[49m\u001b[43m \u001b[49m\u001b[43mretain_graph\u001b[49m\u001b[43m,\u001b[49m\u001b[43m \u001b[49m\u001b[43mcreate_graph\u001b[49m\u001b[43m,\u001b[49m\u001b[43m \u001b[49m\u001b[43minputs\u001b[49m\u001b[43m,\u001b[49m\n\u001b[0;32m    202\u001b[0m \u001b[43m    \u001b[49m\u001b[43mallow_unreachable\u001b[49m\u001b[38;5;241;43m=\u001b[39;49m\u001b[38;5;28;43;01mTrue\u001b[39;49;00m\u001b[43m,\u001b[49m\u001b[43m \u001b[49m\u001b[43maccumulate_grad\u001b[49m\u001b[38;5;241;43m=\u001b[39;49m\u001b[38;5;28;43;01mTrue\u001b[39;49;00m\u001b[43m)\u001b[49m\n",
      "\u001b[1;31mKeyboardInterrupt\u001b[0m: "
     ]
    }
   ],
   "source": [
    "# Assuming X_train and y_train are torch tensors\n",
    "batch_size= 100\n",
    "learning_rate= 1e-3\n",
    "dataset = TensorDataset(\n",
    "    \n",
    ")\n",
    "\n",
    "dataloader = DataLoader(dataset, batch_size=batch_size, shuffle=True)\n",
    "\n",
    "# Instantiate the transformer model\n",
    "model = mynn.TransformerModel(input_dim=21, seq_length=100, output_dim=100, device= device)\n",
    "\n",
    "# Define loss function and optimizer\n",
    "criterion = nn.MSELoss()\n",
    "optimizer = optim.Adam(model.parameters(), lr=learning_rate)\n",
    "# Training loop\n",
    "num_epochs = 100  # Adjust the number of epochs as needed\n",
    "for epoch in range(num_epochs):\n",
    "    for batch in dataloader:\n",
    "        inputs, targets = batch\n",
    "\n",
    "        # Zero the gradients\n",
    "        optimizer.zero_grad()\n",
    "\n",
    "        # Forward pass\n",
    "        outputs = model(inputs)\n",
    "\n",
    "        # Compute the loss\n",
    "        loss = criterion(outputs, targets)\n",
    "\n",
    "        # Backward pass\n",
    "        loss.backward()\n",
    "\n",
    "        # Update the weights\n",
    "        optimizer.step()\n",
    "\n",
    "    # Print the loss for each epoch\n",
    "    print(f'Epoch [{epoch+1}/{num_epochs}], Loss: {loss.item()}')\n"
   ]
  },
  {
   "cell_type": "code",
   "execution_count": 9,
   "metadata": {},
   "outputs": [],
   "source": [
    "xs= torch.tensor(EmbdeddingNps, device= device)\n",
    "ys= torch.tensor(centralitysNps,  device= device)\n",
    "\n"
   ]
  }
 ],
 "metadata": {
  "kernelspec": {
   "display_name": "tf1",
   "language": "python",
   "name": "python3"
  },
  "language_info": {
   "codemirror_mode": {
    "name": "ipython",
    "version": 3
   },
   "file_extension": ".py",
   "mimetype": "text/x-python",
   "name": "python",
   "nbconvert_exporter": "python",
   "pygments_lexer": "ipython3",
   "version": "3.11.4"
  }
 },
 "nbformat": 4,
 "nbformat_minor": 2
}
